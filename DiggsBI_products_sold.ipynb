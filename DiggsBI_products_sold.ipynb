{
 "cells": [
  {
   "cell_type": "code",
   "execution_count": 296,
   "id": "bdb1ced2",
   "metadata": {},
   "outputs": [],
   "source": [
    "import pandas as pd\n",
    "from pandas import json_normalize\n",
    "import json\n",
    "import matplotlib.pyplot as plt\n",
    "import requests\n",
    "from requests.auth import HTTPBasicAuth"
   ]
  },
  {
   "cell_type": "code",
   "execution_count": 297,
   "id": "4327754f",
   "metadata": {},
   "outputs": [],
   "source": [
    "#initializing page variable\n",
    "page=1\n",
    "sales_data=[]\n",
    "while(1):\n",
    "    # api get request for sales in the month of January\n",
    "    response = requests.get('https://api.cin7.com/api/v1/SalesOrders?rows=250&where= createdDate<2023-02-01T00:00:00Z and createdDate>2022-12-31T23:59:59Z&fields=createdDate,lineItems&page='+str(page),auth = HTTPBasicAuth('DiggsIncUS', '9901f725991a42c4b8ea12917e3c21d9'))\n",
    "    #looping the api call till there isn't an empty object is returned\n",
    "    if not response.json():\n",
    "        break\n",
    "    sales_data += response.json()\n",
    "    #increasing the page value to iterate through all pages and get the data\n",
    "    page += 1                     "
   ]
  },
  {
   "cell_type": "code",
   "execution_count": 299,
   "id": "0d502449",
   "metadata": {},
   "outputs": [
    {
     "name": "stdout",
     "output_type": "stream",
     "text": [
      "               createdDate                                          lineItems\n",
      "0     2023-01-31T23:57:15Z  [{'id': 173662, 'createdDate': '2023-01-31T23:...\n",
      "1     2023-01-31T23:56:06Z  [{'id': 173664, 'createdDate': '2023-01-31T23:...\n",
      "2     2023-01-31T23:48:27Z  [{'id': 173681, 'createdDate': '2023-01-31T23:...\n",
      "3     2023-01-31T23:46:24Z  [{'id': 173660, 'createdDate': '2023-01-31T23:...\n",
      "4     2023-01-31T23:34:35Z  [{'id': 173659, 'createdDate': '2023-01-31T23:...\n",
      "...                    ...                                                ...\n",
      "4207  2023-01-01T01:01:00Z  [{'id': 162093, 'createdDate': '2023-01-01T01:...\n",
      "4208  2023-01-01T00:18:21Z  [{'id': 161446, 'createdDate': '2023-01-01T00:...\n",
      "4209  2023-01-01T00:07:18Z  [{'id': 161442, 'createdDate': '2023-01-01T00:...\n",
      "4210  2023-01-01T00:05:43Z  [{'id': 161444, 'createdDate': '2023-01-01T00:...\n",
      "4211  2023-01-01T00:01:22Z  [{'id': 161439, 'createdDate': '2023-01-01T00:...\n",
      "\n",
      "[4212 rows x 2 columns]\n"
     ]
    }
   ],
   "source": [
    "#converting the json object to a dataframe\n",
    "df = pd.json_normalize(sales_data)\n",
    "#print(df)"
   ]
  },
  {
   "cell_type": "code",
   "execution_count": 300,
   "id": "f389179e",
   "metadata": {},
   "outputs": [
    {
     "name": "stdout",
     "output_type": "stream",
     "text": [
      "                createdDate                                          lineItems\n",
      "0      2023-01-31T23:57:15Z  {'id': 173662, 'createdDate': '2023-01-31T23:5...\n",
      "1      2023-01-31T23:56:06Z  {'id': 173664, 'createdDate': '2023-01-31T23:5...\n",
      "2      2023-01-31T23:56:06Z  {'id': 173665, 'createdDate': '2023-01-31T23:5...\n",
      "3      2023-01-31T23:56:06Z  {'id': 173666, 'createdDate': '2023-01-31T23:5...\n",
      "4      2023-01-31T23:56:06Z  {'id': 173667, 'createdDate': '2023-01-31T23:5...\n",
      "...                     ...                                                ...\n",
      "10182  2023-01-01T00:05:43Z  {'id': 161445, 'createdDate': '2023-01-01T00:0...\n",
      "10183  2023-01-01T00:05:43Z  {'id': 161443, 'createdDate': '2023-01-01T00:0...\n",
      "10184  2023-01-01T00:01:22Z  {'id': 161439, 'createdDate': '2023-01-01T00:0...\n",
      "10185  2023-01-01T00:01:22Z  {'id': 161441, 'createdDate': '2023-01-01T00:0...\n",
      "10186  2023-01-01T00:01:22Z  {'id': 161440, 'createdDate': '2023-01-01T00:0...\n",
      "\n",
      "[10187 rows x 2 columns]\n"
     ]
    }
   ],
   "source": [
    "#separating objects from the listItems column each object forming a separate row\n",
    "df=df.explode('lineItems').reset_index(drop=True)\n",
    "#print(df)"
   ]
  },
  {
   "cell_type": "code",
   "execution_count": 301,
   "id": "efe83df9",
   "metadata": {},
   "outputs": [],
   "source": [
    "#dropping all nan values and resetting the index\n",
    "df=df.dropna().reset_index(drop=True)"
   ]
  },
  {
   "cell_type": "code",
   "execution_count": 302,
   "id": "db837dee",
   "metadata": {},
   "outputs": [
    {
     "data": {
      "text/html": [
       "<div>\n",
       "<style scoped>\n",
       "    .dataframe tbody tr th:only-of-type {\n",
       "        vertical-align: middle;\n",
       "    }\n",
       "\n",
       "    .dataframe tbody tr th {\n",
       "        vertical-align: top;\n",
       "    }\n",
       "\n",
       "    .dataframe thead th {\n",
       "        text-align: right;\n",
       "    }\n",
       "</style>\n",
       "<table border=\"1\" class=\"dataframe\">\n",
       "  <thead>\n",
       "    <tr style=\"text-align: right;\">\n",
       "      <th></th>\n",
       "      <th>code</th>\n",
       "      <th>qty</th>\n",
       "    </tr>\n",
       "  </thead>\n",
       "  <tbody>\n",
       "    <tr>\n",
       "      <th>0</th>\n",
       "      <td>TRV001AOSG</td>\n",
       "      <td>1</td>\n",
       "    </tr>\n",
       "    <tr>\n",
       "      <th>1</th>\n",
       "      <td>PAD018AALG</td>\n",
       "      <td>1</td>\n",
       "    </tr>\n",
       "    <tr>\n",
       "      <th>2</th>\n",
       "      <td>GRO010AASIR</td>\n",
       "      <td>1</td>\n",
       "    </tr>\n",
       "    <tr>\n",
       "      <th>3</th>\n",
       "      <td>CRA022AALW-1</td>\n",
       "      <td>1</td>\n",
       "    </tr>\n",
       "    <tr>\n",
       "      <th>4</th>\n",
       "      <td>CRA022AALW-2</td>\n",
       "      <td>1</td>\n",
       "    </tr>\n",
       "    <tr>\n",
       "      <th>...</th>\n",
       "      <td>...</td>\n",
       "      <td>...</td>\n",
       "    </tr>\n",
       "    <tr>\n",
       "      <th>9810</th>\n",
       "      <td>CRA022AALW-2</td>\n",
       "      <td>1</td>\n",
       "    </tr>\n",
       "    <tr>\n",
       "      <th>9811</th>\n",
       "      <td>CRA022AALW</td>\n",
       "      <td>1</td>\n",
       "    </tr>\n",
       "    <tr>\n",
       "      <th>9812</th>\n",
       "      <td>CRA002AAMG</td>\n",
       "      <td>1</td>\n",
       "    </tr>\n",
       "    <tr>\n",
       "      <th>9813</th>\n",
       "      <td>PAD020AAMG</td>\n",
       "      <td>1</td>\n",
       "    </tr>\n",
       "    <tr>\n",
       "      <th>9814</th>\n",
       "      <td>GRO010AASIR</td>\n",
       "      <td>1</td>\n",
       "    </tr>\n",
       "  </tbody>\n",
       "</table>\n",
       "<p>9815 rows × 2 columns</p>\n",
       "</div>"
      ],
      "text/plain": [
       "              code qty\n",
       "0       TRV001AOSG   1\n",
       "1       PAD018AALG   1\n",
       "2      GRO010AASIR   1\n",
       "3     CRA022AALW-1   1\n",
       "4     CRA022AALW-2   1\n",
       "...            ...  ..\n",
       "9810  CRA022AALW-2   1\n",
       "9811    CRA022AALW   1\n",
       "9812    CRA002AAMG   1\n",
       "9813    PAD020AAMG   1\n",
       "9814   GRO010AASIR   1\n",
       "\n",
       "[9815 rows x 2 columns]"
      ]
     },
     "execution_count": 302,
     "metadata": {},
     "output_type": "execute_result"
    }
   ],
   "source": [
    "#adding code and qty columns to the dataframe by accessing it from the linItems column and then filtering dataframe to show only those columns\n",
    "df['code']=''\n",
    "df['qty']=''\n",
    "for i in range(len(df)):\n",
    "    df.loc[i, \"code\"]=df.loc[i, \"lineItems\"]['code']\n",
    "    df.loc[i, \"qty\"]=int(df.loc[i, \"lineItems\"]['qty'])\n",
    "    \n",
    "df=df.filter(['code','qty'], axis=1)\n",
    "#df"
   ]
  },
  {
   "cell_type": "code",
   "execution_count": 303,
   "id": "988c7c9d",
   "metadata": {},
   "outputs": [
    {
     "data": {
      "text/html": [
       "<div>\n",
       "<style scoped>\n",
       "    .dataframe tbody tr th:only-of-type {\n",
       "        vertical-align: middle;\n",
       "    }\n",
       "\n",
       "    .dataframe tbody tr th {\n",
       "        vertical-align: top;\n",
       "    }\n",
       "\n",
       "    .dataframe thead th {\n",
       "        text-align: right;\n",
       "    }\n",
       "</style>\n",
       "<table border=\"1\" class=\"dataframe\">\n",
       "  <thead>\n",
       "    <tr style=\"text-align: right;\">\n",
       "      <th></th>\n",
       "      <th>code</th>\n",
       "      <th>Product Variant</th>\n",
       "    </tr>\n",
       "  </thead>\n",
       "  <tbody>\n",
       "    <tr>\n",
       "      <th>0</th>\n",
       "      <td>WSC007AALW</td>\n",
       "      <td>CollarLarge Ash</td>\n",
       "    </tr>\n",
       "    <tr>\n",
       "      <th>1</th>\n",
       "      <td>WSC012AALP</td>\n",
       "      <td>CollarLarge Blush</td>\n",
       "    </tr>\n",
       "    <tr>\n",
       "      <th>2</th>\n",
       "      <td>WSC040AALP</td>\n",
       "      <td>CollarLarge Blush</td>\n",
       "    </tr>\n",
       "    <tr>\n",
       "      <th>3</th>\n",
       "      <td>WSC008AALB</td>\n",
       "      <td>CollarLarge Charcoal</td>\n",
       "    </tr>\n",
       "    <tr>\n",
       "      <th>4</th>\n",
       "      <td>WSC016AALL</td>\n",
       "      <td>CollarLarge Lilac</td>\n",
       "    </tr>\n",
       "    <tr>\n",
       "      <th>...</th>\n",
       "      <td>...</td>\n",
       "      <td>...</td>\n",
       "    </tr>\n",
       "    <tr>\n",
       "      <th>218</th>\n",
       "      <td>PAD008AAMT</td>\n",
       "      <td>V1 SnoozMedium Tan</td>\n",
       "    </tr>\n",
       "    <tr>\n",
       "      <th>219</th>\n",
       "      <td>PAD002AASB</td>\n",
       "      <td>V1 SnoozSmall Dark Grey</td>\n",
       "    </tr>\n",
       "    <tr>\n",
       "      <th>220</th>\n",
       "      <td>PAD005AASC</td>\n",
       "      <td>V1 SnoozSmall Dark Grey</td>\n",
       "    </tr>\n",
       "    <tr>\n",
       "      <th>221</th>\n",
       "      <td>PAD001AASG</td>\n",
       "      <td>V1 SnoozSmall Light Grey</td>\n",
       "    </tr>\n",
       "    <tr>\n",
       "      <th>222</th>\n",
       "      <td>PAD006AAST</td>\n",
       "      <td>V1 SnoozSmall Tan</td>\n",
       "    </tr>\n",
       "  </tbody>\n",
       "</table>\n",
       "<p>223 rows × 2 columns</p>\n",
       "</div>"
      ],
      "text/plain": [
       "           code           Product Variant\n",
       "0    WSC007AALW           CollarLarge Ash\n",
       "1    WSC012AALP         CollarLarge Blush\n",
       "2    WSC040AALP         CollarLarge Blush\n",
       "3    WSC008AALB      CollarLarge Charcoal\n",
       "4    WSC016AALL         CollarLarge Lilac\n",
       "..          ...                       ...\n",
       "218  PAD008AAMT        V1 SnoozMedium Tan\n",
       "219  PAD002AASB   V1 SnoozSmall Dark Grey\n",
       "220  PAD005AASC   V1 SnoozSmall Dark Grey\n",
       "221  PAD001AASG  V1 SnoozSmall Light Grey\n",
       "222  PAD006AAST         V1 SnoozSmall Tan\n",
       "\n",
       "[223 rows x 2 columns]"
      ]
     },
     "execution_count": 303,
     "metadata": {},
     "output_type": "execute_result"
    }
   ],
   "source": [
    "#accessing the skumapping excel\n",
    "compare_df=pd.read_excel('/Users/nidhimenon/Downloads/DiggsSKUMapping.xlsx')\n",
    "compare_df=compare_df.filter(['Diggs SKU', 'Product Variant'])\n",
    "compare_df=compare_df.rename(columns={'Diggs SKU':'code'})\n",
    "#compare_df"
   ]
  },
  {
   "cell_type": "code",
   "execution_count": 304,
   "id": "eb07c1c3",
   "metadata": {},
   "outputs": [
    {
     "name": "stdout",
     "output_type": "stream",
     "text": [
      "Product Variant\n",
      "Poop Bags                  977\n",
      "Groov Turquoise            868\n",
      "Spreadable                 800\n",
      "Bowl ClipCharcoal          612\n",
      "Groov Blush                583\n",
      "                          ... \n",
      "HarnessSmall Grey            1\n",
      "HarnessExtra Small Grey      1\n",
      "RevolMedium Pine             1\n",
      "CollarLarge Slate            1\n",
      "CollarLarge Charcoal         1\n",
      "Name: qty, Length: 117, dtype: int64\n"
     ]
    }
   ],
   "source": [
    "#matching the data from sales to the skumapping excel sheet to get product variants and their quantity sold\n",
    "final_df=pd.merge(df, compare_df, on='code', how='left')\n",
    "#final_df.to_excel(\"/Users/nidhimenon/Desktop/output_nan.xlsx\")\n",
    "final_df=final_df.groupby(\"Product Variant\")[\"qty\"].sum()\n",
    "final_df=final_df.sort_values(ascending=False)\n",
    "#print(final_df)"
   ]
  },
  {
   "cell_type": "code",
   "execution_count": 305,
   "id": "94c51cc4",
   "metadata": {},
   "outputs": [],
   "source": [
    "#saving it to excel sheet\n",
    "final_df.to_excel(\"/Users/nidhimenon/Desktop/output.xlsx\")"
   ]
  },
  {
   "cell_type": "code",
   "execution_count": 306,
   "id": "326b75d7",
   "metadata": {},
   "outputs": [
    {
     "data": {
      "text/plain": [
       "Product Variant\n",
       "Poop Bags            977\n",
       "Groov Turquoise      868\n",
       "Spreadable           800\n",
       "Bowl ClipCharcoal    612\n",
       "Groov Blush          583\n",
       "Name: qty, dtype: int64"
      ]
     },
     "execution_count": 306,
     "metadata": {},
     "output_type": "execute_result"
    }
   ],
   "source": [
    "#displaying top 5 most sold products\n",
    "data=final_df.head(5)\n",
    "data"
   ]
  },
  {
   "cell_type": "code",
   "execution_count": 307,
   "id": "bfaa0da9",
   "metadata": {},
   "outputs": [
    {
     "data": {
      "text/plain": [
       "<AxesSubplot:xlabel='Product Variant'>"
      ]
     },
     "execution_count": 307,
     "metadata": {},
     "output_type": "execute_result"
    },
    {
     "data": {
      "image/png": "[encoded data removed]",
      "text/plain": [
       "<Figure size 432x288 with 1 Axes>"
      ]
     },
     "metadata": {
      "needs_background": "light"
     },
     "output_type": "display_data"
    }
   ],
   "source": [
    "data.plot.bar()\t"
   ]
  },
  {
   "cell_type": "code",
   "execution_count": null,
   "id": "dee12981",
   "metadata": {},
   "outputs": [],
   "source": []
  }
 ],
 "metadata": {
  "kernelspec": {
   "display_name": "Python 3",
   "language": "python",
   "name": "python3"
  },
  "language_info": {
   "codemirror_mode": {
    "name": "ipython",
    "version": 3
   },
   "file_extension": ".py",
   "mimetype": "text/x-python",
   "name": "python",
   "nbconvert_exporter": "python",
   "pygments_lexer": "ipython3",
   "version": "3.8.8"
  }
 },
 "nbformat": 4,
 "nbformat_minor": 5
}
